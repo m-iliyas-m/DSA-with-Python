{
 "cells": [
  {
   "cell_type": "markdown",
   "id": "3fd6f9d7-3951-4598-9a2c-a8fc204ebcf7",
   "metadata": {},
   "source": [
    "# Creating a Linked List: Initialize an empty linked list or create one with initial nodes"
   ]
  },
  {
   "cell_type": "code",
   "execution_count": 47,
   "id": "2c68a24e-7051-4eaa-862b-7f3136ea184c",
   "metadata": {},
   "outputs": [
    {
     "name": "stdout",
     "output_type": "stream",
     "text": [
      "7 ->6 ->5 ->"
     ]
    }
   ],
   "source": [
    "class Node:\n",
    "    def __init__(self,data):\n",
    "        self.data = data\n",
    "        self.next = None\n",
    "class Linkedlist :\n",
    "    def __init__ (self):\n",
    "        self.head = None\n",
    "    def Insert(self,data):\n",
    "        new_Node = Node(data)\n",
    "        new_Node.next = self.head\n",
    "        self.head = new_Node\n",
    "\n",
    "    def Display(self):\n",
    "        current = self.head\n",
    "        while current:\n",
    "            print(f\"{current.data} ->\",end=\"\")\n",
    "            current = current.next           \n",
    "if __name__ == \"__main__\":    \n",
    "    List = Linkedlist()\n",
    "    List.Insert(5)\n",
    "    List.Insert(6)\n",
    "    List.Insert(7)\n",
    "    List.Display()\n",
    "\n",
    "    "
   ]
  },
  {
   "cell_type": "markdown",
   "id": "0bb0cb72-8417-4c5b-8423-c6e982f55148",
   "metadata": {},
   "source": [
    "# Insertion:"
   ]
  },
  {
   "cell_type": "markdown",
   "id": "43486bff-bda7-4723-a3a1-a5d36cb2214f",
   "metadata": {},
   "source": [
    "## inserting at the Beginning: Add a new node at the start of the linked list."
   ]
  },
  {
   "cell_type": "code",
   "execution_count": 8,
   "id": "0e5a7e1b-ef0a-4ef2-bc33-c3f1c2efd78e",
   "metadata": {},
   "outputs": [
    {
     "name": "stdout",
     "output_type": "stream",
     "text": [
      "1 ->"
     ]
    },
    {
     "ename": "AttributeError",
     "evalue": "'int' object has no attribute 'data'",
     "output_type": "error",
     "traceback": [
      "\u001b[1;31m---------------------------------------------------------------------------\u001b[0m",
      "\u001b[1;31mAttributeError\u001b[0m                            Traceback (most recent call last)",
      "\u001b[1;32m~\\AppData\\Local\\Temp\\ipykernel_6164\\1040772983.py\u001b[0m in \u001b[0;36m<module>\u001b[1;34m\u001b[0m\n\u001b[0;32m     26\u001b[0m     \u001b[0mnew_list\u001b[0m\u001b[1;33m.\u001b[0m\u001b[0mInsert\u001b[0m\u001b[1;33m(\u001b[0m\u001b[1;36m7\u001b[0m\u001b[1;33m)\u001b[0m\u001b[1;33m\u001b[0m\u001b[1;33m\u001b[0m\u001b[0m\n\u001b[0;32m     27\u001b[0m     \u001b[0mnew_list\u001b[0m\u001b[1;33m.\u001b[0m\u001b[0mInsert_at_beginning\u001b[0m\u001b[1;33m(\u001b[0m\u001b[1;36m1\u001b[0m\u001b[1;33m)\u001b[0m\u001b[1;33m\u001b[0m\u001b[1;33m\u001b[0m\u001b[0m\n\u001b[1;32m---> 28\u001b[1;33m     \u001b[0mnew_list\u001b[0m\u001b[1;33m.\u001b[0m\u001b[0mDisplay\u001b[0m\u001b[1;33m(\u001b[0m\u001b[1;33m)\u001b[0m\u001b[1;33m\u001b[0m\u001b[1;33m\u001b[0m\u001b[0m\n\u001b[0m",
      "\u001b[1;32m~\\AppData\\Local\\Temp\\ipykernel_6164\\1040772983.py\u001b[0m in \u001b[0;36mDisplay\u001b[1;34m(self)\u001b[0m\n\u001b[0;32m     13\u001b[0m         \u001b[0mcurrent\u001b[0m \u001b[1;33m=\u001b[0m \u001b[0mself\u001b[0m\u001b[1;33m.\u001b[0m\u001b[0mhead\u001b[0m\u001b[1;33m\u001b[0m\u001b[1;33m\u001b[0m\u001b[0m\n\u001b[0;32m     14\u001b[0m         \u001b[1;32mwhile\u001b[0m \u001b[0mcurrent\u001b[0m\u001b[1;33m:\u001b[0m\u001b[1;33m\u001b[0m\u001b[1;33m\u001b[0m\u001b[0m\n\u001b[1;32m---> 15\u001b[1;33m             \u001b[0mprint\u001b[0m\u001b[1;33m(\u001b[0m\u001b[1;34mf\"{current.data} ->\"\u001b[0m\u001b[1;33m,\u001b[0m\u001b[0mend\u001b[0m\u001b[1;33m=\u001b[0m\u001b[1;34m\"\"\u001b[0m\u001b[1;33m)\u001b[0m\u001b[1;33m\u001b[0m\u001b[1;33m\u001b[0m\u001b[0m\n\u001b[0m\u001b[0;32m     16\u001b[0m             \u001b[0mcurrent\u001b[0m \u001b[1;33m=\u001b[0m \u001b[0mcurrent\u001b[0m\u001b[1;33m.\u001b[0m\u001b[0mnext\u001b[0m\u001b[1;33m\u001b[0m\u001b[1;33m\u001b[0m\u001b[0m\n\u001b[0;32m     17\u001b[0m     \u001b[1;32mdef\u001b[0m \u001b[0mInsert_at_beginning\u001b[0m\u001b[1;33m(\u001b[0m\u001b[0mself\u001b[0m\u001b[1;33m,\u001b[0m\u001b[0mdata\u001b[0m\u001b[1;33m)\u001b[0m\u001b[1;33m:\u001b[0m\u001b[1;33m\u001b[0m\u001b[1;33m\u001b[0m\u001b[0m\n",
      "\u001b[1;31mAttributeError\u001b[0m: 'int' object has no attribute 'data'"
     ]
    }
   ],
   "source": [
    "class Node:\n",
    "    def __init__(self,data):\n",
    "        self.data = data\n",
    "        self.next = None\n",
    "class Linkedlist:\n",
    "    def __init__(self):\n",
    "        self.head = None\n",
    "    def Insert(self,data):\n",
    "        New_node = Node(data)\n",
    "        New_node.next = self.head\n",
    "        self.head = New_node\n",
    "    def Display(self):\n",
    "        current = self.head\n",
    "        while current:\n",
    "            print(f\"{current.data} ->\",end=\"\")\n",
    "            current = current.next\n",
    "    def Insert_at_beginning(self,data):\n",
    "        current = self.head\n",
    "        New_node = Node(data)\n",
    "        New_node.next = current.sel\n",
    "        self.head = New_node\n",
    "if __name__ == \"__main__\":\n",
    "    new_list = Linkedlist()\n",
    "    new_list.Insert(5)\n",
    "    new_list.Insert(6)\n",
    "    new_list.Insert(7)\n",
    "    new_list.Insert_at_beginning(1)\n",
    "    new_list.Display()"
   ]
  },
  {
   "cell_type": "markdown",
   "id": "816da5b4-3402-4960-adfb-2e561970ffc3",
   "metadata": {},
   "source": [
    "## Inserting at the End: Add a new node at the end of the linked list."
   ]
  },
  {
   "cell_type": "code",
   "execution_count": 65,
   "id": "5cdfb7ac-7cd0-4321-b5a7-d6172ca6dedd",
   "metadata": {},
   "outputs": [
    {
     "name": "stdout",
     "output_type": "stream",
     "text": [
      "1\n",
      "2\n",
      "3\n",
      "4\n"
     ]
    }
   ],
   "source": [
    "class Node:\n",
    "    def __init__(self,data):\n",
    "        self.data = data\n",
    "        self.next = None\n",
    "class Linkedlist:\n",
    "    def __init__(self):\n",
    "        self.head = None\n",
    "    def Insert_at_end(self,data):\n",
    "        new_node = Node(data)\n",
    "        if not self.head:\n",
    "            self.head = new_node\n",
    "        else :\n",
    "            current = self.head\n",
    "            while current.next:\n",
    "                current = current.next\n",
    "            current.next = new_node\n",
    "    def Display(self):\n",
    "        current = self.head\n",
    "        while current:\n",
    "                print(current.data)\n",
    "                current = current.next\n",
    "        \n",
    "# if __name__ == \"__main__\" :\n",
    "newlist = Linkedlist()\n",
    "newlist.Insert_at_end(1)\n",
    "newlist.Insert_at_end(2)\n",
    "newlist.Insert_at_end(3)\n",
    "newlist.Insert_at_end(4)\n",
    "newlist.Display()\n"
   ]
  },
  {
   "cell_type": "markdown",
   "id": "f0cb9760-a6c0-46c6-b0fa-65b931769b8d",
   "metadata": {},
   "source": [
    "## Inserting at a Specific Position: Add a new node at a given position in the linked list."
   ]
  },
  {
   "cell_type": "code",
   "execution_count": 109,
   "id": "c1912c8a-5b8c-47dd-a960-a0979d2e6a58",
   "metadata": {},
   "outputs": [
    {
     "name": "stdout",
     "output_type": "stream",
     "text": [
      "1 ->2 ->3 ->4 ->"
     ]
    }
   ],
   "source": [
    "class Node:\n",
    "    def __init__(self,data):\n",
    "        self.data = data\n",
    "        self.next = None\n",
    "class Linkedlist:\n",
    "    def __init__(self):\n",
    "        self.head = None\n",
    "    def Insert(self,data):\n",
    "        new_Node = Node(data)\n",
    "        if not self.head:\n",
    "            self.head = new_Node\n",
    "        else:\n",
    "            current = self.head\n",
    "            while current.next:\n",
    "                current = current.next\n",
    "            current.next = new_Node\n",
    "    def Insert_at_position(self,data,pos):\n",
    "         new_Node = Node(data)\n",
    "         if pos == 0:\n",
    "            new_Node.next = self.head\n",
    "            self.head = new_Node\n",
    "         else:\n",
    "            current = self.head\n",
    "            count = 0\n",
    "            while current.next:\n",
    "                 current = current.next\n",
    "                 count +=1\n",
    "                 if pos > count:\n",
    "                    new_Node.next = current.next\n",
    "                    current.next = new_Node\n",
    "                    break\n",
    "\n",
    "    def Display(self):\n",
    "        current = self.head\n",
    "        while current:\n",
    "            print(f\"{current.data} ->\",end=\"\")\n",
    "            current = current.next\n",
    "\n",
    "newlist = Linkedlist()\n",
    "newlist.Insert(1)\n",
    "newlist.Insert(2)\n",
    "newlist.Insert(3)\n",
    "newlist.Insert(4)\n",
    "newlist.Insert_at_position(5,1)\n",
    "newlist.Display()"
   ]
  },
  {
   "cell_type": "code",
   "execution_count": null,
   "id": "1bb66bf6-970e-4ac9-9964-96b8da52508b",
   "metadata": {},
   "outputs": [],
   "source": []
  }
 ],
 "metadata": {
  "kernelspec": {
   "display_name": "Python 3 (ipykernel)",
   "language": "python",
   "name": "python3"
  },
  "language_info": {
   "codemirror_mode": {
    "name": "ipython",
    "version": 3
   },
   "file_extension": ".py",
   "mimetype": "text/x-python",
   "name": "python",
   "nbconvert_exporter": "python",
   "pygments_lexer": "ipython3",
   "version": "3.9.13"
  }
 },
 "nbformat": 4,
 "nbformat_minor": 5
}
