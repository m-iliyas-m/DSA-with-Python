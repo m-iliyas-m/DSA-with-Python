{
 "cells": [
  {
   "cell_type": "code",
   "execution_count": 1,
   "id": "175b8e7e-24e5-47c6-a522-3959a3032842",
   "metadata": {},
   "outputs": [],
   "source": [
    "import numpy as np"
   ]
  },
  {
   "cell_type": "markdown",
   "id": "65d3b508-99c7-44a6-8ba3-983efa12f8b5",
   "metadata": {},
   "source": [
    "# Array Creation and Initialization"
   ]
  },
  {
   "cell_type": "code",
   "execution_count": 2,
   "id": "323ab6c9-dae5-40d8-a144-e16a62647e68",
   "metadata": {},
   "outputs": [
    {
     "data": {
      "text/plain": [
       "array([1, 2, 3, 4])"
      ]
     },
     "execution_count": 2,
     "metadata": {},
     "output_type": "execute_result"
    }
   ],
   "source": [
    "S = np.array([1,2,3,4])\n",
    "S"
   ]
  },
  {
   "cell_type": "markdown",
   "id": "6fd2b055-da82-4f58-9fb9-0f0850eea6e9",
   "metadata": {},
   "source": [
    "# Accessing Array Elements"
   ]
  },
  {
   "cell_type": "code",
   "execution_count": 3,
   "id": "e96e2b26-c725-4257-9492-e2bb94f345d7",
   "metadata": {},
   "outputs": [
    {
     "data": {
      "text/plain": [
       "array([2, 3])"
      ]
     },
     "execution_count": 3,
     "metadata": {},
     "output_type": "execute_result"
    }
   ],
   "source": [
    "S[1:3]"
   ]
  },
  {
   "cell_type": "markdown",
   "id": "b1807530-9975-444e-b381-0020122b6bc1",
   "metadata": {},
   "source": [
    "# Modifying Array Elements"
   ]
  },
  {
   "cell_type": "code",
   "execution_count": 4,
   "id": "2a49f550-1d43-4e73-bba0-47a586568b61",
   "metadata": {},
   "outputs": [
    {
     "data": {
      "text/plain": [
       "array([1, 2, 1, 4])"
      ]
     },
     "execution_count": 4,
     "metadata": {},
     "output_type": "execute_result"
    }
   ],
   "source": [
    "S[2] = 1\n",
    "S"
   ]
  },
  {
   "cell_type": "markdown",
   "id": "12ed17a9-f1f3-4d16-b061-0f4ff7ccdfd8",
   "metadata": {},
   "source": [
    "# Array Traversal"
   ]
  },
  {
   "cell_type": "code",
   "execution_count": 5,
   "id": "56b3e1d0-c9e3-4544-b2bd-dd5c1b4f167c",
   "metadata": {},
   "outputs": [
    {
     "name": "stdout",
     "output_type": "stream",
     "text": [
      "1\n",
      "2\n",
      "1\n",
      "4\n"
     ]
    }
   ],
   "source": [
    "for i in S:\n",
    "    print(i)"
   ]
  },
  {
   "cell_type": "markdown",
   "id": "631c2e1d-2ae2-4d32-9a27-298123efbdd8",
   "metadata": {},
   "source": [
    "# Array Insertion and Deletion"
   ]
  },
  {
   "cell_type": "code",
   "execution_count": 6,
   "id": "2f806273-e416-4e39-af3d-dc8dbae1e323",
   "metadata": {},
   "outputs": [
    {
     "data": {
      "text/plain": [
       "array([ 1,  2,  1, 10,  4, 10])"
      ]
     },
     "execution_count": 6,
     "metadata": {},
     "output_type": "execute_result"
    }
   ],
   "source": [
    "S = np.insert(S,3,10)\n",
    "#for inserting in end of the array\n",
    "S = np.append(S,10)\n",
    "S"
   ]
  },
  {
   "cell_type": "markdown",
   "id": "7140bdee-c63f-4c3d-b741-61c38e9dbebb",
   "metadata": {},
   "source": [
    "# Searching in Arrays (Linear Search, Binary Search)"
   ]
  },
  {
   "cell_type": "markdown",
   "id": "0f3ab662-a285-483e-a0a1-1d7c5957ba6a",
   "metadata": {},
   "source": [
    "## linear Search without numpy "
   ]
  },
  {
   "cell_type": "code",
   "execution_count": 7,
   "id": "fa9d0069-526c-459d-95ac-887a4d66c808",
   "metadata": {},
   "outputs": [
    {
     "name": "stdout",
     "output_type": "stream",
     "text": [
      "Target element 6 found at index 5\n"
     ]
    }
   ],
   "source": [
    "def Linearsearch(arr, target):\n",
    "    for i in range(0,len(arr)):\n",
    "        if (arr[i] == target):\n",
    "            return i\n",
    "    return -1\n",
    "arr = [1,2,3,4,5,6,7,8,9]\n",
    "target = 6\n",
    "res = Linearsearch(arr,target)\n",
    "print(f\"Target element {target} found at index {res}\")\n",
    "    "
   ]
  },
  {
   "cell_type": "markdown",
   "id": "fea487de-58aa-47f1-a94a-6643b14fe2df",
   "metadata": {},
   "source": [
    "## linear Search using numpy "
   ]
  },
  {
   "cell_type": "code",
   "execution_count": 8,
   "id": "8ad656ee-6a1e-4986-963c-5c34a545f9d2",
   "metadata": {},
   "outputs": [
    {
     "name": "stdout",
     "output_type": "stream",
     "text": [
      "Element 65 found at index 7.\n"
     ]
    }
   ],
   "source": [
    "Arr = np.array([4,52,7,2,9,45,35,65])\n",
    "target = 65\n",
    "res = np.where(Arr == target)\n",
    "if res[0].size > 0:\n",
    "    print(f\"Element {target} found at index {res[0][0]}.\")\n",
    "else:\n",
    "    print(f\"Element {target} not found in the array.\")"
   ]
  },
  {
   "cell_type": "markdown",
   "id": "a990eefe-abab-4c61-b2b4-ba867cd97180",
   "metadata": {},
   "source": [
    "## Binary search without numpy"
   ]
  },
  {
   "cell_type": "code",
   "execution_count": 9,
   "id": "0002c7dd-ceb0-4384-865d-5d8adaaef72a",
   "metadata": {},
   "outputs": [
    {
     "name": "stdout",
     "output_type": "stream",
     "text": [
      "Target element 91 found at index 10\n"
     ]
    }
   ],
   "source": [
    "def Binarysearch(arr,target):\n",
    "    low = 0\n",
    "    high = len(arr)-1\n",
    "    while(low <=high):\n",
    "        mid= (high+low)//2\n",
    "        mid_element = arr[mid]\n",
    "        if(mid_element==target):\n",
    "            return mid\n",
    "        elif(mid_element<target):\n",
    "            low = mid+1\n",
    "        elif(mid_element>target):\n",
    "            high = mid\n",
    "    return -1   \n",
    "Sorted_list = [11,23,45,56,58,59,64,66,78,79,91,96]\n",
    "target = 91\n",
    "res = Binarysearch(Sorted_list,target)\n",
    "print(f\"Target element {target} found at index {res}\")"
   ]
  },
  {
   "cell_type": "markdown",
   "id": "163a6624-20d3-42e8-8930-63df86f526d0",
   "metadata": {},
   "source": [
    "## binary Search using numpy "
   ]
  },
  {
   "cell_type": "code",
   "execution_count": 10,
   "id": "a6518af5-488b-4fee-8632-f904214967e2",
   "metadata": {},
   "outputs": [
    {
     "name": "stdout",
     "output_type": "stream",
     "text": [
      "Element 91 found at index 10.\n"
     ]
    }
   ],
   "source": [
    "Arr = np.array([11,23,45,56,58,59,64,66,78,79,91,96])\n",
    "target = 91\n",
    "res = np.searchsorted(Arr,target)\n",
    "if res > 0:\n",
    "    print(f\"Element {target} found at index {res}.\")\n",
    "else:\n",
    "    print(f\"Element {target} not found in the array.\")"
   ]
  },
  {
   "cell_type": "markdown",
   "id": "95fccdfc-37a1-4f5e-b3f6-df6af9240d29",
   "metadata": {},
   "source": [
    "# Sorting Arrays (Bubble Sort, Insertion Sort, Selection Sort, Merge Sort, Quick Sort)"
   ]
  },
  {
   "cell_type": "markdown",
   "id": "e8da3f6e-0ba2-4bb7-9793-834cf04d8905",
   "metadata": {},
   "source": [
    "## Bubble Sort"
   ]
  },
  {
   "cell_type": "code",
   "execution_count": 11,
   "id": "1f741b79-c638-49c4-8fef-33f55e230e98",
   "metadata": {},
   "outputs": [
    {
     "name": "stdout",
     "output_type": "stream",
     "text": [
      "Sorted Array [2, 2, 3, 3, 4, 5, 5, 6, 6, 6, 7, 23, 25, 26, 33, 35, 38, 43, 44, 45, 46, 54, 66, 74, 76, 76, 85, 86, 98, 234, 566, 653, 4564, 6644]\n"
     ]
    }
   ],
   "source": [
    "def Bubblesort(Arr):\n",
    "    n = len(Arr)\n",
    "    for i in range(0,n):\n",
    "        for j in range(0,n-1-i):\n",
    "            if (Arr[j]>Arr[j+1]):\n",
    "                Arr[j],Arr[j+1]=Arr[j+1],Arr[j]\n",
    "Arr = [2,6,3,2,85,3,5,7,43,6,5,6,23,76,44,86,35,76,33,45,66,54,25,74,26,46,38,98,653,234,566,4,4564,6644]\n",
    "Bubblesort(Arr)\n",
    "print(\"Sorted Array\" ,Arr)"
   ]
  },
  {
   "cell_type": "markdown",
   "id": "52f5ab85-afdc-4223-8c5a-c4106a9868c6",
   "metadata": {},
   "source": [
    "## Insertion Sort"
   ]
  },
  {
   "cell_type": "code",
   "execution_count": null,
   "id": "131c32bb-a820-42cf-99cb-b54ddf9c1e8f",
   "metadata": {},
   "outputs": [],
   "source": []
  },
  {
   "cell_type": "markdown",
   "id": "72633fe1-b93f-469b-9ecd-e0d9e6037bf2",
   "metadata": {},
   "source": [
    "## Selection sort\n",
    "We start with the first element as the sorted part (i.e., i=0). The rest of the array is considered unsorted.\r\n",
    "\n",
    "We find the minimum element from the unsorted part (i.e., from index i+1 to the end of the array) and store its index in min_index\n",
    ".\r\n",
    "We swap the minimum element (at index min_index) with the first element of the unsorted part (at index i\n",
    ").\r\n",
    "Now, the first i+1 elements are sorted, and the i+1th element is in its correct positi\n",
    "on.\r\n",
    "We repeat steps 2-4 until the entire array is sorted."
   ]
  },
  {
   "cell_type": "code",
   "execution_count": 12,
   "id": "deaf762f-36cc-4d6e-bd44-9a8cc50f9473",
   "metadata": {},
   "outputs": [
    {
     "name": "stdout",
     "output_type": "stream",
     "text": [
      "original data[66, 34, 22, 5, 3, 12, 76, 24]\n"
     ]
    },
    {
     "data": {
      "text/plain": [
       "[3, 5, 12, 22, 24, 34, 66, 76]"
      ]
     },
     "execution_count": 12,
     "metadata": {},
     "output_type": "execute_result"
    }
   ],
   "source": [
    "def sort_array(data):\n",
    "    n = len(data)\n",
    "    for i in range(n):\n",
    "        for j in range(i+1,n):\n",
    "            if arr[j]<arr[i]:\n",
    "                arr[i],arr[j] =arr[j],arr[i]\n",
    "    return arr\n",
    "arr = [66,34,22,5,3,12,76,24]\n",
    "print(f\"original data{arr}\")\n",
    "sort_array(arr)\n"
   ]
  },
  {
   "cell_type": "markdown",
   "id": "339a3a41-d2e5-49fa-9481-6b76cd714bf1",
   "metadata": {},
   "source": [
    "# Merging and Splitting Arrays"
   ]
  },
  {
   "cell_type": "markdown",
   "id": "302caa13-0374-445c-b973-a536ef91e8c8",
   "metadata": {},
   "source": [
    "### Merging"
   ]
  },
  {
   "cell_type": "code",
   "execution_count": 2,
   "id": "61327edd-582d-495b-b948-cb12aa165e89",
   "metadata": {},
   "outputs": [
    {
     "data": {
      "text/plain": [
       "[1, 2, 3, 4, 5, 6, 7, 8]"
      ]
     },
     "execution_count": 2,
     "metadata": {},
     "output_type": "execute_result"
    }
   ],
   "source": [
    "def merge_arr(arr1,arr2):\n",
    "    new_arr = []\n",
    "    for i in arr1:\n",
    "        new_arr.append(i)\n",
    "    for i in arr2:    \n",
    "        new_arr.append(i)\n",
    "    return new_arr\n",
    "\n",
    "\n",
    "arr1 = [1,2,3,4]\n",
    "arr2 = [5,6,7,8]\n",
    "merged_arr = merge_arr(arr1,arr2)\n",
    "merged_arr"
   ]
  },
  {
   "cell_type": "markdown",
   "id": "8aa1af15-887e-4e42-852a-89ac2fc88215",
   "metadata": {},
   "source": [
    "## Splitting "
   ]
  },
  {
   "cell_type": "code",
   "execution_count": 5,
   "id": "66fc785c-5b1b-46cc-b720-fded2083451d",
   "metadata": {},
   "outputs": [
    {
     "name": "stdout",
     "output_type": "stream",
     "text": [
      "left arr = [1, 2, 3, 4]\n",
      " right arr = [5, 6, 7, 8]\n"
     ]
    }
   ],
   "source": [
    "def Split_arr(arr, index):\n",
    "    left = []\n",
    "    right = []\n",
    "    for i in range(0,len(arr)):\n",
    "        if index > i:\n",
    "            left.append(arr[i])\n",
    "        else:\n",
    "            right.append(arr[i])\n",
    "    return left , right\n",
    "\n",
    "\n",
    "arr = [1, 2, 3, 4, 5, 6, 7, 8]\n",
    "index = 4\n",
    "left , right = Split_arr(arr,index)\n",
    "print(f\"left arr = {left}\\n right arr = {right}\")"
   ]
  },
  {
   "cell_type": "markdown",
   "id": "c542d934-2337-409b-9fe2-dd1be4e2bbf9",
   "metadata": {},
   "source": [
    "# Finding Maximum and Minimum Elements"
   ]
  },
  {
   "cell_type": "code",
   "execution_count": 6,
   "id": "f5bfe68b-fc50-4a4f-b508-dba438d9c17c",
   "metadata": {},
   "outputs": [
    {
     "name": "stdout",
     "output_type": "stream",
     "text": [
      "MAX - 56\n",
      "MIN - -3\n"
     ]
    }
   ],
   "source": [
    "def find_min_max(arr):\n",
    "    min = arr[0]\n",
    "    max = arr[0]\n",
    "    for i in range(0,len(arr)):\n",
    "        if min >arr[i]:\n",
    "            min = arr[i]\n",
    "        if max < arr[i]:\n",
    "            max = arr[i]\n",
    "    print(f\"MAX - {max}\\nMIN - {min}\")\n",
    "arr = [1,2,-3,4,5,56,7,8,9]\n",
    "find_min_max(arr)\n",
    "\n"
   ]
  },
  {
   "cell_type": "markdown",
   "id": "535f4c03-15bd-4c91-9a57-89d16958803d",
   "metadata": {},
   "source": [
    "# Array Reversal"
   ]
  },
  {
   "cell_type": "code",
   "execution_count": 19,
   "id": "1a9cbb26-451b-4d4a-bfc1-3f3049d33b0f",
   "metadata": {},
   "outputs": [
    {
     "data": {
      "text/plain": [
       "[9, 8, 7, 6, 5, 4, 3, 2, 1]"
      ]
     },
     "execution_count": 19,
     "metadata": {},
     "output_type": "execute_result"
    }
   ],
   "source": [
    "def Reverse(arr):\n",
    "    new_arr= []\n",
    "    for i in range(len(arr)-1,-1,-1):\n",
    "        new_arr += [arr[i]]\n",
    "    return new_arr\n",
    "        \n",
    "\n",
    "arr = [1,2,3,4,5,6,7,8,9]\n",
    "arr = Reverse(arr)\n",
    "arr"
   ]
  },
  {
   "cell_type": "markdown",
   "id": "7d08894a-72b6-455a-a47f-7345aea31abf",
   "metadata": {},
   "source": [
    "# Subarray/Subsequence Problems"
   ]
  },
  {
   "cell_type": "markdown",
   "id": "164c727f-6585-41c0-b0fa-84831ebda3a3",
   "metadata": {},
   "source": [
    "## maximum subarray sum"
   ]
  },
  {
   "cell_type": "code",
   "execution_count": 13,
   "id": "13d9fc77-8acc-4e46-af2c-f2d1eac418d5",
   "metadata": {},
   "outputs": [
    {
     "data": {
      "text/plain": [
       "(7, [4, -2, -1, 6])"
      ]
     },
     "execution_count": 13,
     "metadata": {},
     "output_type": "execute_result"
    }
   ],
   "source": [
    "def subarray_sum(arr):\n",
    "    max_sum = 0\n",
    "    sum = 0\n",
    "    new_arr= []\n",
    "    max_arr = []\n",
    "    for i in range(0,len(arr)):\n",
    "        for j in range(i,len(arr)):\n",
    "            new_arr.append(arr[j])\n",
    "            sum += arr[j]\n",
    "            if sum > max_sum:\n",
    "                max_sum = sum\n",
    "                max_arr = new_arr\n",
    "        sum = 0\n",
    "        new_arr= []\n",
    "    return max_sum,max_arr\n",
    "arr = [1, -3, 4, -2, -1, 6]\n",
    "sum,subarr = subarray_sum(arr)\n",
    "sum , subarr"
   ]
  },
  {
   "cell_type": "markdown",
   "id": "af33f590-6d48-4382-af90-609bc3e20ba0",
   "metadata": {},
   "source": [
    "## Longest Increasing Subsequence (Dynamic Programming)"
   ]
  },
  {
   "cell_type": "code",
   "execution_count": 22,
   "id": "f38a5f43-f370-4a3c-9972-312d75ade5dc",
   "metadata": {},
   "outputs": [
    {
     "data": {
      "text/plain": [
       "([2, 6, 4, 7, 3, 86, 53, 21, 65, 65, 84, 54, 84, 66, 64], 15)"
      ]
     },
     "execution_count": 22,
     "metadata": {},
     "output_type": "execute_result"
    }
   ],
   "source": [
    "def Longesgt_incresing_subsequence(arr):\n",
    "    Long_sub_sequence = []\n",
    "    flag = 0\n",
    "    \n",
    "    for i in range(0,len(arr)-1):\n",
    "        for j in range(0,len(arr)-1):\n",
    "            if arr[j] < arr[j+1]:\n",
    "                Long_sub_sequence.append(arr[i])\n",
    "                flag +=1\n",
    "            else:\n",
    "                break\n",
    "               \n",
    "    return Long_sub_sequence , flag\n",
    "            \n",
    "\n",
    "arr = [2,6,4,7,3,86,53,21,65,65,84,54,84,66,64,4]\n",
    "sub,size = Longesgt_incresing_subsequence(arr)\n",
    "sub,size"
   ]
  },
  {
   "cell_type": "code",
   "execution_count": null,
   "id": "f3a2d6ce-c778-484c-a772-09c2cb304a97",
   "metadata": {},
   "outputs": [],
   "source": []
  },
  {
   "cell_type": "code",
   "execution_count": null,
   "id": "57f283d5-f1d0-49e9-a167-225d84db359b",
   "metadata": {},
   "outputs": [],
   "source": []
  },
  {
   "cell_type": "code",
   "execution_count": null,
   "id": "b1cdc57d-ba44-4e91-ba98-e92ab8b089a8",
   "metadata": {},
   "outputs": [],
   "source": []
  },
  {
   "cell_type": "markdown",
   "id": "c8d1d392-742a-43c4-8eda-f41ef41df2f0",
   "metadata": {},
   "source": [
    "# Finding Duplicates in Arrays"
   ]
  },
  {
   "cell_type": "code",
   "execution_count": 47,
   "id": "ddca9341-58cb-4e05-9443-caad62e483c0",
   "metadata": {},
   "outputs": [
    {
     "data": {
      "text/plain": [
       "['1', '12', '123', '1234', '2', '23', '234', '3', '34', '4']"
      ]
     },
     "execution_count": 47,
     "metadata": {},
     "output_type": "execute_result"
    }
   ],
   "source": [
    "def find_dup(arr):\n",
    "    list = create_all_posible(arr)\n",
    "    newlist = []\n",
    "    for i in range(0,len(list)):\n",
    "        temp = list[i]\n",
    "        flag = 0\n",
    "        for j in range(0,len(list)):\n",
    "            if temp == list[j]:\n",
    "                 flag +=1\n",
    "        if flag >1:\n",
    "            count = 0\n",
    "            if not newlist:\n",
    "                newlist.append(temp) \n",
    "            else:    \n",
    "                for k in range(0,len(newlist)):\n",
    "                    if newlist[k]==temp: \n",
    "                        count +=1\n",
    "                if count >= 1:\n",
    "                    count = 0\n",
    "                    break\n",
    "                else:\n",
    "                    newlist.append(temp) \n",
    "                                    \n",
    "    return newlist\n",
    "def create_all_posible(arr):\n",
    "     list=[]\n",
    "     word=\"\"\n",
    "     for i in range(0,len(arr)):\n",
    "        for j in range(i,len(arr)):\n",
    "            word += str(arr[j])\n",
    "            list.append(word)\n",
    "        word=\"\"\n",
    "     return list\n",
    "arr = np.array([1,2,3,4,1,2,3,1,2,3,4])\n",
    "find_dup(arr)\n",
    "\n",
    "\n",
    "\n"
   ]
  },
  {
   "cell_type": "code",
   "execution_count": null,
   "id": "5ff87f77-7c79-4691-b0cd-1e881ad0371a",
   "metadata": {},
   "outputs": [],
   "source": []
  },
  {
   "cell_type": "code",
   "execution_count": null,
   "id": "648f87fe-b13a-4305-bf7b-863c0c2876c1",
   "metadata": {},
   "outputs": [],
   "source": []
  },
  {
   "cell_type": "code",
   "execution_count": null,
   "id": "0a606dbb-2d8d-44bf-89a7-4a5ed99bc7ba",
   "metadata": {},
   "outputs": [],
   "source": []
  },
  {
   "cell_type": "code",
   "execution_count": null,
   "id": "a4e0805c-e572-4128-86d9-482f508e3c75",
   "metadata": {},
   "outputs": [],
   "source": []
  }
 ],
 "metadata": {
  "kernelspec": {
   "display_name": "Python 3 (ipykernel)",
   "language": "python",
   "name": "python3"
  },
  "language_info": {
   "codemirror_mode": {
    "name": "ipython",
    "version": 3
   },
   "file_extension": ".py",
   "mimetype": "text/x-python",
   "name": "python",
   "nbconvert_exporter": "python",
   "pygments_lexer": "ipython3",
   "version": "3.9.13"
  }
 },
 "nbformat": 4,
 "nbformat_minor": 5
}
