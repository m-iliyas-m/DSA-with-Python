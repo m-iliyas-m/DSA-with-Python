{
 "cells": [
  {
   "cell_type": "markdown",
   "id": "4e12a034-64b4-41bb-9aed-660be1829a3e",
   "metadata": {},
   "source": [
    "# Creation and intialization of string"
   ]
  },
  {
   "cell_type": "code",
   "execution_count": null,
   "id": "96963094-f67e-48cb-b91b-4108ae61d712",
   "metadata": {},
   "outputs": [],
   "source": [
    "Strr = \"hey\"\n",
    "Strr"
   ]
  },
  {
   "cell_type": "markdown",
   "id": "674752a5-559b-4f37-a9c1-90da9bbc6658",
   "metadata": {},
   "source": [
    "# Accessing Characters in Strings"
   ]
  },
  {
   "cell_type": "code",
   "execution_count": null,
   "id": "857aa0d6-2280-4174-a444-4fe7f733e75f",
   "metadata": {},
   "outputs": [],
   "source": [
    "Strr[2]"
   ]
  },
  {
   "cell_type": "markdown",
   "id": "4992d5d1-31f5-407e-860a-71e0802095a1",
   "metadata": {},
   "source": [
    "# Modifying Strings"
   ]
  },
  {
   "cell_type": "code",
   "execution_count": null,
   "id": "ee0556a1-52e2-4e95-88b9-f1c06120d534",
   "metadata": {},
   "outputs": [],
   "source": [
    "Strr2 = Strr + \"a\"\n",
    "Strr2"
   ]
  },
  {
   "cell_type": "markdown",
   "id": "e6ebc9ce-234c-4409-8503-0ea57d2f9341",
   "metadata": {},
   "source": [
    "# String Concatenation"
   ]
  },
  {
   "cell_type": "code",
   "execution_count": null,
   "id": "37729f56-d149-4db4-999d-584fcab20fea",
   "metadata": {},
   "outputs": [],
   "source": [
    "Strr + Strr2"
   ]
  },
  {
   "cell_type": "markdown",
   "id": "7583fd66-39ab-4c1c-be2f-a190a59f9e5a",
   "metadata": {},
   "source": [
    "# String Comparison"
   ]
  },
  {
   "cell_type": "code",
   "execution_count": null,
   "id": "11889795-06da-4283-857a-35a99c60ad72",
   "metadata": {},
   "outputs": [],
   "source": [
    "Strr == Strr2"
   ]
  },
  {
   "cell_type": "markdown",
   "id": "ccc6f933-c427-4cb9-8cbc-1e9a586df888",
   "metadata": {},
   "source": [
    "# String Traversal"
   ]
  },
  {
   "cell_type": "code",
   "execution_count": null,
   "id": "402db9ab-8bb5-4a6c-a63d-cc09a0083013",
   "metadata": {},
   "outputs": [],
   "source": [
    "for i in Strr:\n",
    "    print(i)"
   ]
  },
  {
   "cell_type": "markdown",
   "id": "b6525e7c-fea6-48e7-a3d6-9a36e765b449",
   "metadata": {},
   "source": [
    "# String Reversal"
   ]
  },
  {
   "cell_type": "code",
   "execution_count": null,
   "id": "2387bb00-59e7-4368-a0cd-62e0fa4c5d3e",
   "metadata": {},
   "outputs": [],
   "source": [
    "# a = \"\"\n",
    "# print(Strr2)\n",
    "# for i in range(len(Strr2)-1,-1,-1):\n",
    "#     a = a + Strr2[i]\n",
    "# print(a)\n",
    "\n",
    "# using slicing\n",
    "Strr2[::-1]"
   ]
  },
  {
   "cell_type": "markdown",
   "id": "49f3d1a9-4844-435c-9987-6823b66f16b9",
   "metadata": {},
   "source": [
    "# String Substring Extraction"
   ]
  },
  {
   "cell_type": "code",
   "execution_count": null,
   "id": "686ed192-ea0c-4a81-8d5a-ed9d63b498e1",
   "metadata": {},
   "outputs": [],
   "source": [
    "Strr[1:4]"
   ]
  },
  {
   "cell_type": "markdown",
   "id": "ffea18d6-feaf-4f53-868e-5ffbc76c732b",
   "metadata": {},
   "source": [
    "# String Searching and Matching (e.g., Naive Pattern Matching, Knuth-Morris-Pratt Algorithm, Rabin-Karp Algorithm)"
   ]
  },
  {
   "cell_type": "markdown",
   "id": "b2190982-45f3-4ebe-9d24-0c7a934ec561",
   "metadata": {},
   "source": [
    "## Naive Pattern Matching"
   ]
  },
  {
   "cell_type": "code",
   "execution_count": null,
   "id": "8f3d37dc-ae43-4cbb-ad88-57571fdbe1cb",
   "metadata": {},
   "outputs": [],
   "source": [
    "def naive_pattern_matching(text, pattern):\n",
    "    n = len(text)\n",
    "    m = len(pattern)\n",
    "    occurrences = []\n",
    "    for i in range(n-m+1):\n",
    "        j = 0\n",
    "        while j<m and text[i+j] == pattern[j]:\n",
    "            j+=1\n",
    "        if j==m:\n",
    "            occurrences.append(i)\n",
    "    return occurrences\n",
    "text = 'ABBABBCDEABAB'\n",
    "pattern = 'ABB'\n",
    "print(naive_pattern_matching(text,pattern))"
   ]
  },
  {
   "cell_type": "markdown",
   "id": "20f79649-cf92-4471-9386-f09a0bb00419",
   "metadata": {},
   "source": [
    "## Knuth-Morris-Pratt (KMP) Algorithm"
   ]
  },
  {
   "cell_type": "code",
   "execution_count": null,
   "id": "15571c48-0fbc-477f-b570-ecb21d46d91d",
   "metadata": {},
   "outputs": [],
   "source": []
  },
  {
   "cell_type": "markdown",
   "id": "187b42fc-118d-4bdc-91a9-f01bd53870c0",
   "metadata": {},
   "source": [
    "## Rabin-Karp Algorithm"
   ]
  },
  {
   "cell_type": "code",
   "execution_count": null,
   "id": "0e477169-dfd9-4b96-887d-c52624035d1c",
   "metadata": {},
   "outputs": [],
   "source": [
    "def rabin_karp(text,pattern):\n",
    "    n = len(text)\n",
    "    m = len(pattern)\n",
    "    occurrences = []\n",
    "    pattern_hash = hash(pattern)\n",
    "    text_hash = hash(text[:m])\n",
    "    for i in range (n-m+1):\n",
    "        if text_hash == pattern_hash and text[i:i+m] == pattern:\n",
    "            occurrences.append(i)\n",
    "        if i<n-m:\n",
    "            text_hash = hash(text[i+1:i+m+1])\n",
    "    return occurrences\n",
    "text = 'ABBABBCDEABB'\n",
    "pattern = 'ABB'\n",
    "print(rabin_karp(text,pattern))"
   ]
  },
  {
   "cell_type": "markdown",
   "id": "98a82145-40ba-473c-9b39-a326521e3707",
   "metadata": {},
   "source": [
    "# String Splitting and Joining"
   ]
  },
  {
   "cell_type": "markdown",
   "id": "c307ee64-1364-4cfa-ac55-2f3fb7bb5f17",
   "metadata": {},
   "source": [
    "## Splitting"
   ]
  },
  {
   "cell_type": "code",
   "execution_count": null,
   "id": "df2f9ea6-9ad8-4129-9630-bcd114f9c5e9",
   "metadata": {},
   "outputs": [],
   "source": [
    "def custom_split(text,delimiter):\n",
    "    words = []\n",
    "    current_word = \"\"\n",
    "    for char in text:\n",
    "        if char == delimiter:\n",
    "            if current_word:\n",
    "                words.append(current_word)\n",
    "                current_word = \"\"\n",
    "        else:\n",
    "            current_word += char\n",
    "    if current_word:\n",
    "        words.append(current_word)\n",
    "    return words\n",
    "\n",
    "string = 'apple,orange,banana'\n",
    "fruits = custom_split(string,',')\n",
    "print(fruits)\n",
    "\n",
    "# using function split\n",
    "# fruit = string.split(\",\")\n",
    "# fruit"
   ]
  },
  {
   "cell_type": "markdown",
   "id": "21fb8539-36b8-4ac4-bb54-377c35de1ea0",
   "metadata": {},
   "source": [
    "## Joining "
   ]
  },
  {
   "cell_type": "code",
   "execution_count": 19,
   "id": "43560098-c416-48ff-8f2b-1fae3c25df91",
   "metadata": {},
   "outputs": [
    {
     "name": "stdout",
     "output_type": "stream",
     "text": [
      "apple,orange,banana,grapes\n"
     ]
    }
   ],
   "source": [
    "def custom_join(words):\n",
    "    strr = \"\"\n",
    "    for i in words:\n",
    "        if i != words[len(words)-1]:\n",
    "            strr = strr + i + \",\"\n",
    "        else:\n",
    "            strr = strr + i  \n",
    "    return strr\n",
    "words= ['apple','orange','banana',\"grapes\"]\n",
    "strr = custom_join(words)\n",
    "print(strr)\n",
    "\n",
    "# using in-build function\n",
    "# strr2 = \",\".join(words)\n",
    "# print(strr2)"
   ]
  },
  {
   "cell_type": "markdown",
   "id": "f8ffa012-bb71-46f9-a242-e36a39ad9d28",
   "metadata": {},
   "source": [
    "# String Compression and Decompression"
   ]
  },
  {
   "cell_type": "markdown",
   "id": "4052a128-a910-42c6-b606-58677d117a05",
   "metadata": {},
   "source": [
    "## Compression"
   ]
  },
  {
   "cell_type": "code",
   "execution_count": 15,
   "id": "20aa96da-52a0-4a7e-84f7-e405bf8e439f",
   "metadata": {},
   "outputs": [
    {
     "name": "stdout",
     "output_type": "stream",
     "text": [
      "A2B2C2D3\n"
     ]
    }
   ],
   "source": [
    "def compress_func(s):\n",
    "    compressed_text = \"\"\n",
    "    n = len(s)\n",
    "    count = 1\n",
    "    for i in range(n):\n",
    "        if i < n-1 and s[i] == s[i+1]:\n",
    "            count += 1\n",
    "        else :\n",
    "            compressed_text = compressed_text+s[i]+str(count)\n",
    "            count = 1\n",
    "    return compressed_text if len(compressed_text)< n else s\n",
    "text = \"AABBCCDDD\"\n",
    "compressed_text = compress_func(text)\n",
    "print(compressed_text)"
   ]
  },
  {
   "cell_type": "markdown",
   "id": "aaf783c1-40d4-456a-a51f-0f3e7a6bfd6a",
   "metadata": {},
   "source": [
    "# Decompression"
   ]
  },
  {
   "cell_type": "code",
   "execution_count": 47,
   "id": "bd22d9f0-f57c-4abf-9d72-2e7229e9f0d8",
   "metadata": {},
   "outputs": [
    {
     "name": "stdout",
     "output_type": "stream",
     "text": [
      "AACCCDDDD\n"
     ]
    }
   ],
   "source": [
    "def Decompress_func(Strr):\n",
    "    n = len(Strr)\n",
    "    decompressed_string = \"\"\n",
    "    for i in range(0,n,2):\n",
    "            k = int(Strr[i+1])\n",
    "            for j in range(k):\n",
    "                decompressed_string += Strr[i]\n",
    "        \n",
    "    return decompressed_string\n",
    "text = 'A2C3D4'\n",
    "decompressed_text = Decompress_func(text)\n",
    "print(decompressed_text)"
   ]
  },
  {
   "cell_type": "markdown",
   "id": "8d71b61e-87da-46b0-86fb-cd08d1dfb3f0",
   "metadata": {},
   "source": [
    "# String Parsing and Manipulation"
   ]
  },
  {
   "cell_type": "markdown",
   "id": "32d54d12-dbf7-4231-afa2-b34454bb872d",
   "metadata": {},
   "source": [
    "## Concatenating two strings"
   ]
  },
  {
   "cell_type": "code",
   "execution_count": 1,
   "id": "794b90cf-3714-4582-8cad-1c11b280d824",
   "metadata": {},
   "outputs": [
    {
     "name": "stdout",
     "output_type": "stream",
     "text": [
      "abcabc\n"
     ]
    }
   ],
   "source": [
    "def Concate_string(s1,s2):\n",
    "    result = \"\"\n",
    "    for char in s1:\n",
    "        result += char\n",
    "    for char in s1:\n",
    "        result += char\n",
    "    return result\n",
    "\n",
    "str1 = \"abc\"\n",
    "str2 = \"def\"\n",
    "print(Concate_string(str1,str2))"
   ]
  },
  {
   "cell_type": "markdown",
   "id": "9ca98122-25e0-4b98-aae0-207df8c35679",
   "metadata": {},
   "source": [
    "# Counting occurrences of a character in a string:"
   ]
  },
  {
   "cell_type": "code",
   "execution_count": 19,
   "id": "3e000e9c-3266-4285-8ac9-11947a6a04b8",
   "metadata": {},
   "outputs": [
    {
     "name": "stdout",
     "output_type": "stream",
     "text": [
      "A Repeat 6 Times.\n"
     ]
    }
   ],
   "source": [
    "def Count_occur(text , chr):\n",
    "    count = 0\n",
    "    for i in range(len(text)-1,-1,-1)  :\n",
    "        if (text[i]==chr):\n",
    "            count += 1\n",
    "    return count\n",
    "text=\"ARGETHRHSSGYJRKFWRGWRGWRHFEQDCADSEFAAAQQRQERQDGDAEHR\"\n",
    "chr1 = 'A'\n",
    "print(f\"{chr1} Repeat {Count_occur(text,chr1)} Times.\")"
   ]
  },
  {
   "cell_type": "code",
   "execution_count": null,
   "id": "677a667c-efbf-4c02-8622-305f09da8681",
   "metadata": {},
   "outputs": [],
   "source": []
  }
 ],
 "metadata": {
  "kernelspec": {
   "display_name": "Python 3 (ipykernel)",
   "language": "python",
   "name": "python3"
  },
  "language_info": {
   "codemirror_mode": {
    "name": "ipython",
    "version": 3
   },
   "file_extension": ".py",
   "mimetype": "text/x-python",
   "name": "python",
   "nbconvert_exporter": "python",
   "pygments_lexer": "ipython3",
   "version": "3.9.13"
  }
 },
 "nbformat": 4,
 "nbformat_minor": 5
}
