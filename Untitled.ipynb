{
 "cells": [
  {
   "cell_type": "code",
   "execution_count": 6,
   "id": "82c65042-7ecf-400b-8d89-999198ffe76a",
   "metadata": {},
   "outputs": [],
   "source": [
    "def intersection(nums1, nums2):\n",
    "    arr=[]\n",
    "    for i in range(len(nums1)):\n",
    "        for j in range(len(nums2)):\n",
    "            if len(arr)>0:\n",
    "                for k in range(len(arr)):\n",
    "                    if arr[k]==nums2[j]:\n",
    "                        break\n",
    "                    elif nums2[j]==nums1[i]:\n",
    "                        arr.append(nums1[i])\n",
    "                        break\n",
    "                break\n",
    "            elif nums2[j]==nums1[i]:\n",
    "                arr.append(nums1[i])\n",
    "                break       \n",
    "    return arr"
   ]
  },
  {
   "cell_type": "code",
   "execution_count": 19,
   "id": "6dbe83f1-8ada-4155-a38f-bd88f213c853",
   "metadata": {},
   "outputs": [],
   "source": [
    "nums = [[3,1,6,2,4,5],[1,2,3,4],[3,4,5,6]]\n",
    "list = {tuple(i):set(i) for i in nums}"
   ]
  },
  {
   "cell_type": "code",
   "execution_count": 17,
   "id": "81e12eb9-3f97-446a-b4d2-d0874abae120",
   "metadata": {},
   "outputs": [
    {
     "data": {
      "text/plain": [
       "[[3, 1, 6, 2, 4, 5], [1, 2, 3, 4], [3, 4, 5, 6]]"
      ]
     },
     "execution_count": 17,
     "metadata": {},
     "output_type": "execute_result"
    }
   ],
   "source": [
    "nums"
   ]
  },
  {
   "cell_type": "code",
   "execution_count": 9,
   "id": "d94bace8-9ebe-4b0c-8755-d03d57164b79",
   "metadata": {},
   "outputs": [
    {
     "data": {
      "text/plain": [
       "[[3, 1, 2, 4, 5], {1, 2, 3, 4}, [3, 4, 5, 6]]"
      ]
     },
     "execution_count": 9,
     "metadata": {},
     "output_type": "execute_result"
    }
   ],
   "source": [
    "nums[1]= set(nums[1])\n",
    "nums"
   ]
  },
  {
   "cell_type": "code",
   "execution_count": 10,
   "id": "d60caa92-0e30-46d6-9a63-ad30af798331",
   "metadata": {},
   "outputs": [
    {
     "ename": "IndexError",
     "evalue": "list index out of range",
     "output_type": "error",
     "traceback": [
      "\u001b[1;31m---------------------------------------------------------------------------\u001b[0m",
      "\u001b[1;31mIndexError\u001b[0m                                Traceback (most recent call last)",
      "\u001b[1;32m~\\AppData\\Local\\Temp\\ipykernel_6676\\2795775996.py\u001b[0m in \u001b[0;36m<module>\u001b[1;34m\u001b[0m\n\u001b[0;32m      1\u001b[0m \u001b[0mnums\u001b[0m \u001b[1;33m=\u001b[0m\u001b[1;33m[\u001b[0m\u001b[1;36m0\u001b[0m\u001b[1;33m,\u001b[0m\u001b[1;36m3\u001b[0m\u001b[1;33m,\u001b[0m\u001b[1;36m4\u001b[0m\u001b[1;33m,\u001b[0m\u001b[1;36m2\u001b[0m\u001b[1;33m,\u001b[0m\u001b[1;36m0\u001b[0m\u001b[1;33m,\u001b[0m\u001b[1;36m4\u001b[0m\u001b[1;33m]\u001b[0m\u001b[1;33m\u001b[0m\u001b[1;33m\u001b[0m\u001b[0m\n\u001b[0;32m      2\u001b[0m \u001b[1;32mfor\u001b[0m \u001b[0mi\u001b[0m \u001b[1;32min\u001b[0m \u001b[0mrange\u001b[0m\u001b[1;33m(\u001b[0m\u001b[0mlen\u001b[0m\u001b[1;33m(\u001b[0m\u001b[0mnums\u001b[0m\u001b[1;33m)\u001b[0m\u001b[1;33m)\u001b[0m\u001b[1;33m:\u001b[0m\u001b[1;33m\u001b[0m\u001b[1;33m\u001b[0m\u001b[0m\n\u001b[1;32m----> 3\u001b[1;33m     \u001b[1;32mif\u001b[0m \u001b[0mnums\u001b[0m\u001b[1;33m[\u001b[0m\u001b[0mi\u001b[0m\u001b[1;33m]\u001b[0m \u001b[1;33m==\u001b[0m \u001b[1;36m0\u001b[0m\u001b[1;33m:\u001b[0m\u001b[1;33m\u001b[0m\u001b[1;33m\u001b[0m\u001b[0m\n\u001b[0m\u001b[0;32m      4\u001b[0m         \u001b[0mnums\u001b[0m\u001b[1;33m.\u001b[0m\u001b[0mpop\u001b[0m\u001b[1;33m(\u001b[0m\u001b[0mnums\u001b[0m\u001b[1;33m[\u001b[0m\u001b[0mi\u001b[0m\u001b[1;33m]\u001b[0m\u001b[1;33m)\u001b[0m\u001b[1;33m\u001b[0m\u001b[1;33m\u001b[0m\u001b[0m\n\u001b[0;32m      5\u001b[0m \u001b[1;33m\u001b[0m\u001b[0m\n",
      "\u001b[1;31mIndexError\u001b[0m: list index out of range"
     ]
    }
   ],
   "source": [
    "nums =[0,3,4,2,0,4]\n",
    "for i in range(len(nums)):\n",
    "    if nums[i] == 0:\n",
    "        nums.pop(nums[i])\n",
    "\n",
    "nums\n",
    "        "
   ]
  },
  {
   "cell_type": "code",
   "execution_count": 9,
   "id": "684cac25-700c-433d-bc04-cf9366b649d2",
   "metadata": {},
   "outputs": [
    {
     "data": {
      "text/plain": [
       "-2"
      ]
     },
     "execution_count": 9,
     "metadata": {},
     "output_type": "execute_result"
    }
   ],
   "source": [
    "def minimumTotal(triangle):\n",
    "        output = 0\n",
    "        for row in triangle:\n",
    "            smallest = min(row)\n",
    "            # for i in row:\n",
    "            #     if i < smallest:\n",
    "            #         smallest = i\n",
    "            output += smallest\n",
    "        return output\n",
    "\n",
    "r = minimumTotal([[-1],[2,3],[1,-1,-3]])\n",
    "r"
   ]
  },
  {
   "cell_type": "code",
   "execution_count": 8,
   "id": "a86e6da5-6fe3-4eaf-9075-5839059ac420",
   "metadata": {},
   "outputs": [
    {
     "data": {
      "text/plain": [
       "-2"
      ]
     },
     "execution_count": 8,
     "metadata": {},
     "output_type": "execute_result"
    }
   ],
   "source": [
    "(-1)+(2)+(-3)"
   ]
  },
  {
   "cell_type": "code",
   "execution_count": 12,
   "id": "bfed5d8a-479f-4025-b9c2-13afe9e8f9b5",
   "metadata": {},
   "outputs": [
    {
     "name": "stdout",
     "output_type": "stream",
     "text": [
      "11\n",
      "-1\n"
     ]
    }
   ],
   "source": [
    "def minimumTotal(triangle):\n",
    "    if not triangle:\n",
    "        return 0\n",
    "\n",
    "    # Start from the second last row\n",
    "    for i in range(len(triangle) - 2, -1, -1):\n",
    "        for j in range(len(triangle[i])):\n",
    "            # Update each element with the minimum sum path from that element to the bottom\n",
    "            triangle[i][j] += min(triangle[i + 1][j], triangle[i + 1][j + 1])\n",
    "\n",
    "    # The top element will contain the minimum path sum\n",
    "    return triangle[0][0]\n",
    "\n",
    "# Example usage:\n",
    "triangle1 = [[2], [3, 4], [6, 5, 7], [4, 1, 8, 3]]\n",
    "print(minimumTotal(triangle1))  # Output: 11\n",
    "\n",
    "triangle2 =[[-1],[2,3],[1,-1,-3]]\n",
    "print(minimumTotal(triangle2))  # Output: -10\n"
   ]
  },
  {
   "cell_type": "code",
   "execution_count": 13,
   "id": "668786d6-1d8a-4761-9e33-cc92183c86ef",
   "metadata": {},
   "outputs": [
    {
     "name": "stdout",
     "output_type": "stream",
     "text": [
      "Minimum path sum: -1\n",
      "Used elements: [-1, 0, -3, -1]\n",
      "Minimum path sum: -10\n",
      "Used elements: [-10]\n"
     ]
    }
   ],
   "source": [
    "def minimumTotal(triangle):\n",
    "    if not triangle:\n",
    "        return 0\n",
    "\n",
    "    path = []\n",
    "\n",
    "    # Start from the second last row\n",
    "    for i in range(len(triangle) - 2, -1, -1):\n",
    "        for j in range(len(triangle[i])):\n",
    "            # Update each element with the minimum sum path from that element to the bottom\n",
    "            triangle[i][j] += min(triangle[i + 1][j], triangle[i + 1][j + 1])\n",
    "\n",
    "            # Store the used elements\n",
    "            if triangle[i + 1][j] <= triangle[i + 1][j + 1]:\n",
    "                path.append(triangle[i + 1][j])\n",
    "            else:\n",
    "                path.append(triangle[i + 1][j + 1])\n",
    "\n",
    "    # The top element will contain the minimum path sum\n",
    "    path.append(triangle[0][0])\n",
    "\n",
    "    path.reverse()  # Reverse the list to get the elements in the correct order\n",
    "    return triangle[0][0], path\n",
    "\n",
    "# Example usage:\n",
    "triangle1 = [[-1],[2,3],[1,-1,-3]]\n",
    "min_sum, used_elements = minimumTotal(triangle1)\n",
    "print(\"Minimum path sum:\", min_sum)\n",
    "print(\"Used elements:\", used_elements)\n",
    "\n",
    "triangle2 = [[-10]]\n",
    "min_sum, used_elements = minimumTotal(triangle2)\n",
    "print(\"Minimum path sum:\", min_sum)\n",
    "print(\"Used elements:\", used_elements)\n"
   ]
  },
  {
   "cell_type": "code",
   "execution_count": null,
   "id": "592a6c57-f1ab-42e1-9164-e8705425ca4b",
   "metadata": {},
   "outputs": [],
   "source": []
  }
 ],
 "metadata": {
  "kernelspec": {
   "display_name": "Python 3 (ipykernel)",
   "language": "python",
   "name": "python3"
  },
  "language_info": {
   "codemirror_mode": {
    "name": "ipython",
    "version": 3
   },
   "file_extension": ".py",
   "mimetype": "text/x-python",
   "name": "python",
   "nbconvert_exporter": "python",
   "pygments_lexer": "ipython3",
   "version": "3.9.13"
  }
 },
 "nbformat": 4,
 "nbformat_minor": 5
}
