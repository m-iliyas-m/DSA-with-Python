{
 "cells": [
  {
   "cell_type": "code",
   "execution_count": 6,
   "id": "82c65042-7ecf-400b-8d89-999198ffe76a",
   "metadata": {},
   "outputs": [],
   "source": [
    "def intersection(nums1, nums2):\n",
    "    arr=[]\n",
    "    for i in range(len(nums1)):\n",
    "        for j in range(len(nums2)):\n",
    "            if len(arr)>0:\n",
    "                for k in range(len(arr)):\n",
    "                    if arr[k]==nums2[j]:\n",
    "                        break\n",
    "                    elif nums2[j]==nums1[i]:\n",
    "                        arr.append(nums1[i])\n",
    "                        break\n",
    "                break\n",
    "            elif nums2[j]==nums1[i]:\n",
    "                arr.append(nums1[i])\n",
    "                break       \n",
    "    return arr"
   ]
  },
  {
   "cell_type": "code",
   "execution_count": 19,
   "id": "6dbe83f1-8ada-4155-a38f-bd88f213c853",
   "metadata": {},
   "outputs": [],
   "source": [
    "nums = [[3,1,6,2,4,5],[1,2,3,4],[3,4,5,6]]\n",
    "list = {tuple(i):set(i) for i in nums}"
   ]
  },
  {
   "cell_type": "code",
   "execution_count": 17,
   "id": "81e12eb9-3f97-446a-b4d2-d0874abae120",
   "metadata": {},
   "outputs": [
    {
     "data": {
      "text/plain": [
       "[[3, 1, 6, 2, 4, 5], [1, 2, 3, 4], [3, 4, 5, 6]]"
      ]
     },
     "execution_count": 17,
     "metadata": {},
     "output_type": "execute_result"
    }
   ],
   "source": [
    "nums"
   ]
  },
  {
   "cell_type": "code",
   "execution_count": 9,
   "id": "d94bace8-9ebe-4b0c-8755-d03d57164b79",
   "metadata": {},
   "outputs": [
    {
     "data": {
      "text/plain": [
       "[[3, 1, 2, 4, 5], {1, 2, 3, 4}, [3, 4, 5, 6]]"
      ]
     },
     "execution_count": 9,
     "metadata": {},
     "output_type": "execute_result"
    }
   ],
   "source": [
    "nums[1]= set(nums[1])\n",
    "nums"
   ]
  },
  {
   "cell_type": "code",
   "execution_count": null,
   "id": "d60caa92-0e30-46d6-9a63-ad30af798331",
   "metadata": {},
   "outputs": [],
   "source": []
  }
 ],
 "metadata": {
  "kernelspec": {
   "display_name": "Python 3 (ipykernel)",
   "language": "python",
   "name": "python3"
  },
  "language_info": {
   "codemirror_mode": {
    "name": "ipython",
    "version": 3
   },
   "file_extension": ".py",
   "mimetype": "text/x-python",
   "name": "python",
   "nbconvert_exporter": "python",
   "pygments_lexer": "ipython3",
   "version": "3.9.13"
  }
 },
 "nbformat": 4,
 "nbformat_minor": 5
}
